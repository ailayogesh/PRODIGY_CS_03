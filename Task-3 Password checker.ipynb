{
 "cells": [
  {
   "cell_type": "code",
   "execution_count": null,
   "id": "0fb56a13",
   "metadata": {},
   "outputs": [
    {
     "name": "stdout",
     "output_type": "stream",
     "text": [
      "Password Strength Checker\n",
      "==============================\n"
     ]
    }
   ],
   "source": [
    "import re\n",
    "\n",
    "def assess_password(password):\n",
    "    # Initialize strength and suggestions\n",
    "    strength = 0\n",
    "    suggestions = []\n",
    "\n",
    "    # Check for length\n",
    "    if len(password) >= 8:\n",
    "        strength += 1\n",
    "    else:\n",
    "        suggestions.append(\"Password should be at least 8 characters long.\")\n",
    "\n",
    "    # Check for uppercase letters\n",
    "    if any(char.isupper() for char in password):\n",
    "        strength += 1\n",
    "    else:\n",
    "        suggestions.append(\"Include at least one uppercase letter.\")\n",
    "\n",
    "    # Check for lowercase letters\n",
    "    if any(char.islower() for char in password):\n",
    "        strength += 1\n",
    "    else:\n",
    "        suggestions.append(\"Include at least one lowercase letter.\")\n",
    "\n",
    "    # Check for digits\n",
    "    if any(char.isdigit() for char in password):\n",
    "        strength += 1\n",
    "    else:\n",
    "        suggestions.append(\"Include at least one numeric digit.\")\n",
    "\n",
    "    # Check for special characters\n",
    "    if re.search(r\"[\\W_]\", password):\n",
    "        strength += 1\n",
    "    else:\n",
    "        suggestions.append(\"Include at least one special character (e.g., @, #, $, %).\")\n",
    "\n",
    "    # Determine strength label\n",
    "    strength_label = {\n",
    "        5: \"Very Strong\",\n",
    "        4: \"Strong\",\n",
    "        3: \"Moderate\",\n",
    "        2: \"Weak\",\n",
    "        1: \"Very Weak\",\n",
    "        0: \"Very Weak\"\n",
    "    }[strength]\n",
    "\n",
    "    # Return the result\n",
    "    return strength_label, suggestions\n",
    "\n",
    "\n",
    "def main():\n",
    "    print(\"Password Strength Checker\")\n",
    "    print(\"=\" * 30)\n",
    "\n",
    "    # Get password input\n",
    "    password = input(\"Enter your password: \")\n",
    "\n",
    "    # Assess password strength\n",
    "    strength, suggestions = assess_password(password)\n",
    "\n",
    "    # Display results\n",
    "    print(f\"\\nPassword Strength: {strength}\")\n",
    "    if suggestions:\n",
    "        print(\"\\nSuggestions for improvement:\")\n",
    "        for suggestion in suggestions:\n",
    "            print(f\"- {suggestion}\")\n",
    "    else:\n",
    "        print(\"Your password meets all criteria. Great job!\")\n",
    "\n",
    "if __name__ == \"__main__\":\n",
    "    main()\n"
   ]
  },
  {
   "cell_type": "code",
   "execution_count": null,
   "id": "3e65393c",
   "metadata": {},
   "outputs": [],
   "source": []
  },
  {
   "cell_type": "code",
   "execution_count": null,
   "id": "a85c1b98",
   "metadata": {},
   "outputs": [],
   "source": []
  }
 ],
 "metadata": {
  "kernelspec": {
   "display_name": "Python 3 (ipykernel)",
   "language": "python",
   "name": "python3"
  },
  "language_info": {
   "codemirror_mode": {
    "name": "ipython",
    "version": 3
   },
   "file_extension": ".py",
   "mimetype": "text/x-python",
   "name": "python",
   "nbconvert_exporter": "python",
   "pygments_lexer": "ipython3",
   "version": "3.9.13"
  }
 },
 "nbformat": 4,
 "nbformat_minor": 5
}
